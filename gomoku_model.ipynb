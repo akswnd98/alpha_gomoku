{
 "cells": [
  {
   "cell_type": "code",
   "execution_count": 16,
   "metadata": {},
   "outputs": [],
   "source": [
    "import tensorflow as tf\n",
    "from tensorflow import keras\n",
    "from keras import layers\n",
    "from keras import initializers\n",
    "from keras import losses\n",
    "from keras import optimizers\n",
    "\n",
    "class AlphaGomokuActorNet (keras.Model):\n",
    "  def __init__ (self, *args, hidden_layers_num=8, **kargs):\n",
    "    super().__init__(*args, **kargs)\n",
    "    self.hidden_layers_num = hidden_layers_num\n",
    "    self.input_layer = self.make_input_layer()\n",
    "    self.hidden_layers = self.make_hidden_layers()\n",
    "    self.output_layer = self.make_output_layer()\n",
    "\n",
    "  def call (self, x):\n",
    "    y = self.input_layer(x)\n",
    "    y = self.hidden_layers(y)\n",
    "    y = self.output_layer(y)\n",
    "    return y\n",
    "    \n",
    "  def make_input_layer (self):\n",
    "    return keras.Sequential([\n",
    "      layers.Conv2D(48, 5, strides=1, padding='same', use_bias=False, kernel_initializer='he_normal'),\n",
    "      layers.BatchNormalization(),\n",
    "      layers.LeakyReLU(0.01),\n",
    "    ])\n",
    "\n",
    "  def make_hidden_layers (self):\n",
    "    return keras.Sequential([self.make_hidden_layer() for _ in range(self.hidden_layers_num)])\n",
    "\n",
    "  def make_hidden_layer (self):\n",
    "    return keras.Sequential([\n",
    "      layers.Conv2D(128, 3, strides=1, padding='same', use_bias=False, kernel_initializer='he_normal'),\n",
    "      layers.BatchNormalization(),\n",
    "      layers.LeakyReLU(0.01),\n",
    "    ])\n",
    "  \n",
    "  def make_output_layer (self):\n",
    "    return keras.Sequential([\n",
    "      layers.Conv2D(1, 1, strides=1, padding='same', use_bias=False, kernel_initializer='he_normal'),\n",
    "      layers.BatchNormalization(),\n",
    "      layers.Flatten(),\n",
    "      layers.Softmax()\n",
    "    ])\n",
    "  "
   ]
  },
  {
   "cell_type": "code",
   "execution_count": 17,
   "metadata": {},
   "outputs": [],
   "source": [
    "import tensorflow as tf\n",
    "from tensorflow import keras\n",
    "from keras import layers\n",
    "from keras import activations\n",
    "from keras import initializers\n",
    "from keras import losses\n",
    "from keras import optimizers\n",
    "\n",
    "class AlphaGomokuCriticNet (keras.Model):\n",
    "  def __init__ (self, *args, hidden_layers_num=8, **kargs):\n",
    "    super().__init__(*args, **kargs)\n",
    "    self.hidden_layers_num = hidden_layers_num\n",
    "    self.input_layer = self.make_input_layer()\n",
    "    self.hidden_layers = self.make_hidden_layers()\n",
    "    self.output_layer = self.make_output_layer()\n",
    "\n",
    "  def call (self, x):\n",
    "    y = self.input_layer(x)\n",
    "    y = self.hidden_layers(y)\n",
    "    y = self.output_layer(y)\n",
    "    return y\n",
    "    \n",
    "  def make_input_layer (self):\n",
    "    return keras.Sequential([\n",
    "      layers.Conv2D(48, 5, strides=1, padding='same', use_bias=False, kernel_initializer='he_normal'),\n",
    "      layers.BatchNormalization(),\n",
    "      layers.LeakyReLU(0.01),\n",
    "    ])\n",
    "\n",
    "  def make_hidden_layers (self):\n",
    "    return keras.Sequential([self.make_hidden_layer() for _ in range(self.hidden_layers_num)])\n",
    "\n",
    "  def make_hidden_layer (self):\n",
    "    return keras.Sequential([\n",
    "      layers.Conv2D(128, 3, strides=1, padding='same', use_bias=False, kernel_initializer='he_normal'),\n",
    "      layers.BatchNormalization(),\n",
    "      layers.LeakyReLU(0.01),\n",
    "    ])\n",
    "  \n",
    "  def make_output_layer (self):\n",
    "    return keras.Sequential([\n",
    "      layers.Conv2D(256, 1, strides=1, padding='same', use_bias=False, kernel_initializer='he_normal'),\n",
    "      layers.BatchNormalization(),\n",
    "      layers.GlobalAveragePooling2D(),\n",
    "      layers.Dense(256),\n",
    "      layers.LeakyReLU(0.01),\n",
    "      layers.Dense(1, activation=activations.tanh),\n",
    "    ])\n",
    "  "
   ]
  },
  {
   "cell_type": "code",
   "execution_count": 18,
   "metadata": {},
   "outputs": [
    {
     "data": {
      "text/plain": [
       "TensorShape([5, 361])"
      ]
     },
     "metadata": {},
     "output_type": "display_data"
    },
    {
     "data": {
      "text/plain": [
       "TensorShape([5, 1])"
      ]
     },
     "metadata": {},
     "output_type": "display_data"
    }
   ],
   "source": [
    "import numpy as np\n",
    "\n",
    "actor_net = AlphaGomokuActorNet()\n",
    "display(actor_net(tf.convert_to_tensor(np.random.rand(5, 19, 19, 1))).shape)\n",
    "\n",
    "critic_net = AlphaGomokuCriticNet()\n",
    "display(critic_net(tf.convert_to_tensor(np.random.rand(5, 19, 19, 1))).shape)\n"
   ]
  },
  {
   "cell_type": "code",
   "execution_count": null,
   "metadata": {},
   "outputs": [],
   "source": []
  }
 ],
 "metadata": {
  "kernelspec": {
   "display_name": "Python 3.9.12 ('base')",
   "language": "python",
   "name": "python3"
  },
  "language_info": {
   "codemirror_mode": {
    "name": "ipython",
    "version": 3
   },
   "file_extension": ".py",
   "mimetype": "text/x-python",
   "name": "python",
   "nbconvert_exporter": "python",
   "pygments_lexer": "ipython3",
   "version": "3.9.12"
  },
  "orig_nbformat": 4,
  "vscode": {
   "interpreter": {
    "hash": "ec62f2ec7c7d49224ec335e3ef472b8ef537dc7949933ed74784e8710c2a92fb"
   }
  }
 },
 "nbformat": 4,
 "nbformat_minor": 2
}
