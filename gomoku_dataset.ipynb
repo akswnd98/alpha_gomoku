{
 "cells": [
  {
   "cell_type": "code",
   "execution_count": 4,
   "metadata": {},
   "outputs": [],
   "source": [
    "import numpy as np\n",
    "import glob\n",
    "import re\n",
    "\n",
    "def read_psq (path):\n",
    "  pattern = re.compile('[0-9]+,[0-9]+,[0-9]+')\n",
    "  ret = []\n",
    "  with open(path, 'rt') as f:\n",
    "    for line in f.readlines():\n",
    "      if pattern.match(line):\n",
    "        ret.append(list(map(lambda x: int(x) - 1, line.split(',')))[0: 2])\n",
    "  \n",
    "  return ret\n"
   ]
  },
  {
   "cell_type": "code",
   "execution_count": 5,
   "metadata": {},
   "outputs": [],
   "source": [
    "def kibo_to_input_list (kibo):\n",
    "  ret = []\n",
    "  cur_state = np.zeros((20, 20), dtype=np.int8)\n",
    "  for i, v in enumerate(kibo):\n",
    "    ret.append(np.array(cur_state))\n",
    "    cur_state[v[1]][v[0]] = (1 if i % 2 == 0 else 2)\n",
    "  return ret\n",
    "\n",
    "def kibo_to_action_list (kibo):\n",
    "  ret = []\n",
    "  for v in kibo:\n",
    "    ret.append(np.array([v[0], v[1]], np.int32))\n",
    "  return ret\n",
    "\n",
    "def kibo_to_reward_list (kibo):\n",
    "  ret = []\n",
    "  for i, _ in kibo:\n",
    "    if len(kibo) >= 400:\n",
    "      ret.append(0)\n",
    "    else:\n",
    "      ret.append(1 if (i % 2) != (len(kibo) % 2) else -1)\n",
    "  return ret\n",
    "\n",
    "def kibo_to_turn_list (kibo):\n",
    "  ret = []\n",
    "  for i, _ in kibo:\n",
    "    ret.append(i % 2)\n",
    "  return ret\n"
   ]
  },
  {
   "cell_type": "code",
   "execution_count": 6,
   "metadata": {},
   "outputs": [],
   "source": [
    "from itertools import permutations\n",
    "\n",
    "def rotate90_gomoku_pos (pos):\n",
    "  return np.array([pos[1], 19 - pos[0]], dtype=np.int32)\n",
    "\n",
    "def mirror_y_gomoku_pos (pos):\n",
    "  return np.array([pos[0], 19 - pos[1]], dtype=np.int32)\n",
    "\n",
    "def get_mirror (num):\n",
    "  return 19 - num\n"
   ]
  },
  {
   "cell_type": "code",
   "execution_count": 141,
   "metadata": {},
   "outputs": [],
   "source": [
    "import re\n",
    "import os\n",
    "from tqdm import tqdm\n",
    "\n",
    "pattern = re.compile('freestyle[0-9]+$', re.RegexFlag.IGNORECASE)\n",
    "\n",
    "psqs = []\n",
    "for i in [2017, 2018, 2019, 2020, 2021]:\n",
    "  for item in os.listdir('./dataset/gomocup{}results'.format(i)):\n",
    "    if pattern.match(item):\n",
    "      psqs += glob.glob('./dataset/gomocup{}results/{}/*.psq'.format(i, item))\n"
   ]
  },
  {
   "cell_type": "code",
   "execution_count": 7,
   "metadata": {},
   "outputs": [],
   "source": [
    "import os\n",
    "\n",
    "def save_processed_datas (*, input_datas=[], action_datas=[], reward_datas=[], turn_datas=[], file_num=0):\n",
    "  os.mkdir('./dataset/processed_datas/no{}'.format(file_num))\n",
    "  np.save('./dataset/processed_datas/no{}/inputs.npy'.format(file_num), np.array(input_datas, dtype=np.int8))\n",
    "  np.save('./dataset/processed_datas/no{}/actions.npy'.format(file_num), np.array([v[0] + v[1] * 20 for v in action_datas], dtype=np.int32))\n",
    "  np.save('./dataset/processed_datas/no{}/rewards.npy'.format(file_num), np.array(reward_datas, dtype=np.int8))\n",
    "  np.save('./dataset/processed_datas/no{}/turns.npy'.format(file_num), np.array(turn_datas, dtype=np.int8))\n"
   ]
  },
  {
   "cell_type": "code",
   "execution_count": 8,
   "metadata": {},
   "outputs": [],
   "source": [
    "def transform_board (*, input_list, action_list, operation):\n",
    "  return operation(input_list, action_list)\n",
    "\n",
    "def rotate90 (input_list, action_list):\n",
    "  input_list_ret = []\n",
    "  action_list_ret = []\n",
    "  for input, action in zip(input_list, action_list):\n",
    "    input_list_ret.append(np.rot90(input))\n",
    "    action_list_ret.append(rotate90_gomoku_pos(action))\n",
    "  return input_list_ret, action_list_ret\n",
    "\n",
    "def mirror (input_list, action_list):\n",
    "  input_list_ret = []\n",
    "  action_list_ret = []\n",
    "  for input, action in zip(input_list, action_list):\n",
    "    input_list_ret.append(np.flip(input, axis=0))\n",
    "    action_list_ret.append(mirror_y_gomoku_pos(action))\n",
    "  return input_list_ret, action_list_ret\n",
    "\n",
    "def identity_operation (input_list, action_list):\n",
    "  return input_list, action_list\n",
    "\n",
    "operation_list = [rotate90 for _ in range(3)] + [mirror] + [rotate90 for _ in range(3)] + [identity_operation]\n"
   ]
  },
  {
   "cell_type": "code",
   "execution_count": 146,
   "metadata": {},
   "outputs": [
    {
     "name": "stderr",
     "output_type": "stream",
     "text": [
      "100%|██████████| 51552/51552 [10:40<00:00, 80.50it/s]  \n"
     ]
    }
   ],
   "source": [
    "from tqdm import tqdm\n",
    "\n",
    "BLOCK_SIZE_PER_FILE = 1000000\n",
    "\n",
    "input_datas = []\n",
    "action_datas = []\n",
    "reward_datas = []\n",
    "turn_datas = []\n",
    "\n",
    "file_idx = 0\n",
    "\n",
    "for psq in tqdm(psqs):\n",
    "  kibo = read_psq(psq)\n",
    "  input_list = kibo_to_input_list(kibo)\n",
    "  action_list = kibo_to_action_list(kibo)\n",
    "  reward_list = kibo_to_reward_list(kibo)\n",
    "  turn_list = kibo_to_turn_list(kibo)\n",
    "  for operation in operation_list:\n",
    "    input_datas += input_list\n",
    "    action_datas += action_list\n",
    "    reward_datas += reward_list\n",
    "    turn_datas += turn_list\n",
    "    input_list, action_list = transform_board(input_list=input_list, action_list=action_list, operation=operation)\n",
    "\n",
    "  while len(input_datas) >= BLOCK_SIZE_PER_FILE:\n",
    "    save_processed_datas(\n",
    "      file_num=file_idx,\n",
    "      input_datas=input_datas[0: BLOCK_SIZE_PER_FILE],\n",
    "      action_datas=action_datas[0: BLOCK_SIZE_PER_FILE],\n",
    "      reward_datas=reward_datas[0: BLOCK_SIZE_PER_FILE],\n",
    "      turn_datas=turn_datas[0: BLOCK_SIZE_PER_FILE]\n",
    "    )\n",
    "    input_datas = input_datas[BLOCK_SIZE_PER_FILE: ]\n",
    "    action_datas = action_datas[BLOCK_SIZE_PER_FILE: ]\n",
    "    reward_datas = reward_datas[BLOCK_SIZE_PER_FILE: ]\n",
    "    turn_datas = turn_datas[BLOCK_SIZE_PER_FILE: ]\n",
    "    file_idx += 1\n",
    "\n",
    "save_processed_datas(\n",
    "  file_num=file_idx,\n",
    "  input_datas=input_datas,\n",
    "  action_datas=action_datas,\n",
    "  reward_datas=reward_datas,\n",
    "  turn_datas=turn_datas\n",
    ")\n",
    "\n"
   ]
  },
  {
   "cell_type": "code",
   "execution_count": 28,
   "metadata": {},
   "outputs": [],
   "source": [
    "def save_shuffled_color_datas (input_datas, action_datas, reward_datas, turn_datas, *, file_num=0, color):\n",
    "  color_str = 'black' if color == 0 else 'white'\n",
    "  os.makedirs('./dataset/shuffled_color_datas/no{}'.format(file_num), exist_ok=True)\n",
    "  np.save('./dataset/shuffled_color_datas/no{}/{}_inputs.npy'.format(file_num, color_str), np.array(input_datas, dtype=np.int8))\n",
    "  np.save('./dataset/shuffled_color_datas/no{}/{}_actions.npy'.format(file_num, color_str), np.array(action_datas, dtype=np.int32))\n",
    "  np.save('./dataset/shuffled_color_datas/no{}/{}_rewards.npy'.format(file_num, color_str), np.array(reward_datas, dtype=np.int8))\n",
    "  np.save('./dataset/shuffled_color_datas/no{}/{}_turns.npy'.format(file_num, color_str), np.array(turn_datas, dtype=np.int8))\n"
   ]
  },
  {
   "cell_type": "code",
   "execution_count": 29,
   "metadata": {},
   "outputs": [
    {
     "name": "stderr",
     "output_type": "stream",
     "text": [
      "100%|██████████| 20/20 [03:48<00:00, 11.43s/it]\n"
     ]
    }
   ],
   "source": [
    "import numpy as np\n",
    "import os\n",
    "import re\n",
    "import random\n",
    "from tqdm import tqdm\n",
    "\n",
    "BLOCK_SIZE_PER_FILE = 1000000\n",
    "\n",
    "pattern = re.compile('no[0-9]+')\n",
    "\n",
    "shuffled_files = os.listdir('./dataset/processed_datas')\n",
    "random.shuffle(shuffled_files)\n",
    "\n",
    "color_datas = [[], []]\n",
    "\n",
    "file_idx = [0, 0]\n",
    "\n",
    "for item in tqdm(shuffled_files):\n",
    "  if pattern.match(item):\n",
    "    input_datas = np.load('./dataset/processed_datas/{}/inputs.npy'.format(item))\n",
    "    action_datas = np.load('./dataset/processed_datas/{}/actions.npy'.format(item))\n",
    "    reward_datas = np.load('./dataset/processed_datas/{}/rewards.npy'.format(item))\n",
    "    turn_datas = np.load('./dataset/processed_datas/{}/turns.npy'.format(item))\n",
    "    for z in zip(input_datas, action_datas, reward_datas, turn_datas):\n",
    "      color_datas[z[3]].append(z)\n",
    "  \n",
    "    for i in range(2):\n",
    "      while len(color_datas[i]) >= BLOCK_SIZE_PER_FILE:\n",
    "        random.shuffle(color_datas[i])\n",
    "        save_shuffled_color_datas(*[[v[j] for v in color_datas[i][0: BLOCK_SIZE_PER_FILE]] for j in range(4)], file_num=file_idx[i], color=i)\n",
    "        color_datas[i] = color_datas[i][BLOCK_SIZE_PER_FILE: ]\n",
    "        file_idx[i] += 1\n",
    "\n",
    "for i in range(2):\n",
    "  random.shuffle(color_datas[i])\n",
    "  save_shuffled_color_datas(*[[v[j] for v in color_datas[i][0: ]] for j in range(4)], file_num=file_idx[i], color=i)\n"
   ]
  },
  {
   "cell_type": "code",
   "execution_count": null,
   "metadata": {},
   "outputs": [],
   "source": [
    "black_indices = list(filter(lambda x: turn_datas[x] == 0, indices))\n",
    "black_indices = np.array(black_indices)\n",
    "np.random.shuffle(black_indices)\n",
    "\n",
    "black_input_datas = input_datas[black_indices]\n",
    "black_target_datas = target_datas[black_indices]\n",
    "\n",
    "np.save('./dataset/black_input.npy', black_input_datas)\n",
    "np.save('./dataset/black_target.npy', black_target_datas)\n",
    "\n",
    "print('black_input_datas.shape: ', black_input_datas.shape)\n",
    "print('black_input_datas.dtype: ', black_input_datas.dtype)\n",
    "print('black_target_datas.shape: ', black_target_datas.shape)\n",
    "print('black_target_datas.dtype: ', black_target_datas.dtype)"
   ]
  },
  {
   "cell_type": "code",
   "execution_count": null,
   "metadata": {},
   "outputs": [],
   "source": [
    "white_indices = list(filter(lambda x: turn_datas[x] == 1, indices))\n",
    "white_indices = np.array(white_indices)\n",
    "np.random.shuffle(white_indices)\n",
    "\n",
    "white_input_datas = input_datas[white_indices]\n",
    "white_target_datas = target_datas[white_indices]\n",
    "\n",
    "np.save('./dataset/white_input.npy', white_input_datas)\n",
    "np.save('./dataset/white_target.npy', white_target_datas)\n",
    "\n",
    "print('white_input_datas.shape: ', white_input_datas.shape)\n",
    "print('white_input_datas.dtype: ', white_input_datas.dtype)\n",
    "print('white_target_datas.shape: ', white_target_datas.shape)\n",
    "print('white_target_datas.dtype: ', white_target_datas.dtype)"
   ]
  },
  {
   "cell_type": "code",
   "execution_count": null,
   "metadata": {},
   "outputs": [],
   "source": []
  }
 ],
 "metadata": {
  "kernelspec": {
   "display_name": "Python 3.9.12 ('base')",
   "language": "python",
   "name": "python3"
  },
  "language_info": {
   "codemirror_mode": {
    "name": "ipython",
    "version": 3
   },
   "file_extension": ".py",
   "mimetype": "text/x-python",
   "name": "python",
   "nbconvert_exporter": "python",
   "pygments_lexer": "ipython3",
   "version": "3.9.12"
  },
  "orig_nbformat": 4,
  "vscode": {
   "interpreter": {
    "hash": "ec62f2ec7c7d49224ec335e3ef472b8ef537dc7949933ed74784e8710c2a92fb"
   }
  }
 },
 "nbformat": 4,
 "nbformat_minor": 2
}
